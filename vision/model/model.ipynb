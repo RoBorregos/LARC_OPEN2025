{
  "cells": [
    {
      "cell_type": "code",
      "execution_count": null,
      "id": "e1fbd744-f22b-48e5-b062-aea434aa0046",
      "metadata": {
        "trusted": true
      },
      "outputs": [
        {
          "name": "stdout",
          "output_type": "stream",
          "text": [
            "GPU disponible: True\n",
            "Tue Jul  8 20:32:09 2025       \n",
            "+-----------------------------------------------------------------------------------------+\n",
            "| NVIDIA-SMI 570.133.07             Driver Version: 570.133.07     CUDA Version: 12.8     |\n",
            "|-----------------------------------------+------------------------+----------------------+\n",
            "| GPU  Name                 Persistence-M | Bus-Id          Disp.A | Volatile Uncorr. ECC |\n",
            "| Fan  Temp   Perf          Pwr:Usage/Cap |           Memory-Usage | GPU-Util  Compute M. |\n",
            "|                                         |                        |               MIG M. |\n",
            "|=========================================+========================+======================|\n",
            "|   0  NVIDIA GeForce RTX 4060 ...    Off |   00000000:01:00.0 Off |                  N/A |\n",
            "| N/A   55C    P3             20W /   55W |    1014MiB /   8188MiB |     27%      Default |\n",
            "|                                         |                        |                  N/A |\n",
            "+-----------------------------------------+------------------------+----------------------+\n",
            "                                                                                         \n",
            "+-----------------------------------------------------------------------------------------+\n",
            "| Processes:                                                                              |\n",
            "|  GPU   GI   CI              PID   Type   Process name                        GPU Memory |\n",
            "|        ID   ID                                                               Usage      |\n",
            "|=========================================================================================|\n",
            "|    0   N/A  N/A            2321      G   /usr/lib/xorg/Xorg                      259MiB |\n",
            "|    0   N/A  N/A            2620    C+G   ...c/gnome-remote-desktop-daemon        360MiB |\n",
            "|    0   N/A  N/A            2661      G   /usr/bin/gnome-shell                    119MiB |\n",
            "|    0   N/A  N/A            3241      G   /opt/brave.com/brave/brave               20MiB |\n",
            "|    0   N/A  N/A            3285      G   ...f67870d96e8173f3b6b07374a4adc         55MiB |\n",
            "|    0   N/A  N/A            4402      G   /usr/share/code/code                    135MiB |\n",
            "+-----------------------------------------------------------------------------------------+\n",
            "Defaulting to user installation because normal site-packages is not writeable\n",
            "Requirement already satisfied: ultralytics in /home/hector/.local/lib/python3.10/site-packages (8.3.163)\n",
            "Requirement already satisfied: pyyaml>=5.3.1 in /usr/lib/python3/dist-packages (from ultralytics) (5.4.1)\n",
            "Requirement already satisfied: numpy>=1.23.0 in /home/hector/.local/lib/python3.10/site-packages (from ultralytics) (2.2.6)\n",
            "Requirement already satisfied: opencv-python>=4.6.0 in /home/hector/.local/lib/python3.10/site-packages (from ultralytics) (4.12.0.88)\n",
            "Requirement already satisfied: tqdm>=4.64.0 in /home/hector/.local/lib/python3.10/site-packages (from ultralytics) (4.67.1)\n",
            "Requirement already satisfied: psutil in /usr/lib/python3/dist-packages (from ultralytics) (5.9.0)\n",
            "Requirement already satisfied: torchvision>=0.9.0 in /home/hector/.local/lib/python3.10/site-packages (from ultralytics) (0.20.1+cu121)\n",
            "Requirement already satisfied: scipy>=1.4.1 in /usr/lib/python3/dist-packages (from ultralytics) (1.8.0)\n",
            "Requirement already satisfied: pillow>=7.1.2 in /home/hector/.local/lib/python3.10/site-packages (from ultralytics) (11.3.0)\n",
            "Requirement already satisfied: matplotlib>=3.3.0 in /usr/lib/python3/dist-packages (from ultralytics) (3.5.1)\n",
            "Requirement already satisfied: requests>=2.23.0 in /usr/lib/python3/dist-packages (from ultralytics) (2.25.1)\n",
            "Requirement already satisfied: torch>=1.8.0 in /home/hector/.local/lib/python3.10/site-packages (from ultralytics) (2.5.1+cu121)\n",
            "Requirement already satisfied: py-cpuinfo in /home/hector/.local/lib/python3.10/site-packages (from ultralytics) (9.0.0)\n",
            "Requirement already satisfied: ultralytics-thop>=2.0.0 in /home/hector/.local/lib/python3.10/site-packages (from ultralytics) (2.0.14)\n",
            "Requirement already satisfied: pandas>=1.1.4 in /home/hector/.local/lib/python3.10/site-packages (from ultralytics) (2.3.1)\n",
            "Requirement already satisfied: tzdata>=2022.7 in /home/hector/.local/lib/python3.10/site-packages (from pandas>=1.1.4->ultralytics) (2025.2)\n",
            "Requirement already satisfied: python-dateutil>=2.8.2 in /home/hector/.local/lib/python3.10/site-packages (from pandas>=1.1.4->ultralytics) (2.9.0.post0)\n",
            "Requirement already satisfied: pytz>=2020.1 in /usr/lib/python3/dist-packages (from pandas>=1.1.4->ultralytics) (2022.1)\n",
            "Collecting sympy==1.13.1\n",
            "  Downloading sympy-1.13.1-py3-none-any.whl (6.2 MB)\n",
            "\u001b[2K     \u001b[90m━━━━━━━━━━━━━━━━━━━━━━━━━━━━━━━━━━━━━━━━\u001b[0m \u001b[32m6.2/6.2 MB\u001b[0m \u001b[31m10.8 MB/s\u001b[0m eta \u001b[36m0:00:00\u001b[0ma \u001b[36m0:00:01\u001b[0m\n",
            "\u001b[?25hCollecting nvidia-cublas-cu12==12.1.3.1\n",
            "  Downloading nvidia_cublas_cu12-12.1.3.1-py3-none-manylinux1_x86_64.whl (410.6 MB)\n",
            "\u001b[2K     \u001b[91m━━━━━━━━━━━━\u001b[0m\u001b[91m╸\u001b[0m\u001b[90m━━━━━━━━━━━━━━━━━━━━━━━━━\u001b[0m \u001b[32m135.9/410.6 MB\u001b[0m \u001b[31m11.0 MB/s\u001b[0m eta \u001b[36m0:00:25\u001b[0m\n",
            "\u001b[?25h\u001b[31mERROR: Operation cancelled by user\u001b[0m\u001b[31m\n",
            "\u001b[0m^C\n",
            "Note: you may need to restart the kernel to use updated packages.\n"
          ]
        }
      ],
      "source": [
        "import torch\n",
        "import cv2\n",
        "print(\"GPU disponible:\", torch.cuda.is_available())\n",
        "\n",
        "!nvidia-smi\n",
        "\n",
        "%pip install ultralytics"
      ]
    },
    {
      "cell_type": "code",
      "execution_count": null,
      "id": "8b8a75af-c591-4cf7-88e0-0566fc144658",
      "metadata": {
        "trusted": true
      },
      "outputs": [],
      "source": [
        "from ultralytics import YOLO\n",
        "\n",
        "model = YOLO(\"yolov8m.pt\")\n",
        "\n",
        "results = model.train(\n",
        "    data=\"vision/model/config.yaml\",  \n",
        "    epochs=150,\n",
        "    imgsz=640,\n",
        "    batch=8,\n",
        "    perspective=0.0005,\n",
        "    scale=0.4,\n",
        "    translate=0.04,\n",
        "    degrees=5,\n",
        "    shear=1,\n",
        "    hsv_s=0.5,\n",
        "    hsv_v=0.3,\n",
        "    flipud=0.2,\n",
        "    patience=15,\n",
        "    save_period=20,\n",
        "    name=\"larc-model\",\n",
        ")\n",
        "\n",
        "model.val()"
      ]
    },
    {
      "cell_type": "code",
      "execution_count": null,
      "id": "329f4e78-93f1-4daa-bdf8-7e84b94dafd1",
      "metadata": {
        "trusted": true
      },
      "outputs": [],
      "source": [
        "model = YOLO('')\n",
        "results = model('')\n",
        "annotated_img = results[0].plot()\n",
        "\n",
        "cv2.imshow(\"YOLO inference\", annotated_img)\n",
        "cv2.waitKey(5000)\n",
        "cv2.destroyAllWindows()"
      ]
    }
  ],
  "metadata": {
    "kernelspec": {
      "display_name": "Python 3",
      "language": "python",
      "name": "python3"
    },
    "language_info": {
      "codemirror_mode": {
        "name": "ipython",
        "version": 3
      },
      "file_extension": ".py",
      "mimetype": "text/x-python",
      "name": "python",
      "nbconvert_exporter": "python",
      "pygments_lexer": "ipython3",
      "version": "3.10.12"
    }
  },
  "nbformat": 4,
  "nbformat_minor": 5
}
