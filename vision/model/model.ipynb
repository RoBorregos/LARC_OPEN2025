{
  "cells": [
    {
      "cell_type": "code",
      "execution_count": null,
      "id": "e1fbd744-f22b-48e5-b062-aea434aa0046",
      "metadata": {
        "trusted": true
      },
      "outputs": [],
      "source": [
        "import torch\n",
        "import cv2\n",
        "print(\"GPU disponible:\", torch.cuda.is_available())\n",
        "\n",
        "!nvidia-smi"
      ]
    },
    {
      "cell_type": "code",
      "execution_count": null,
      "id": "8b8a75af-c591-4cf7-88e0-0566fc144658",
      "metadata": {
        "trusted": true
      },
      "outputs": [],
      "source": [
        "from ultralytics import YOLO\n",
        "\n",
        "model = YOLO(\"yolov8m.pt\")\n",
        "\n",
        "results = model.train(\n",
        "    data=\"vision/model/config.yaml\",  \n",
        "    epochs=150,\n",
        "    imgsz=640,\n",
        "    batch=8,\n",
        "    perspective=0.0005,\n",
        "    scale=0.4,\n",
        "    translate=0.04,\n",
        "    degrees=5,\n",
        "    shear=1,\n",
        "    hsv_s=0.5,\n",
        "    hsv_v=0.3,\n",
        "    flipud=0.2,\n",
        "    patience=15,\n",
        "    save_period=20,\n",
        "    name=\"larc-model\",\n",
        ")\n",
        "\n",
        "model.val()"
      ]
    },
    {
      "cell_type": "code",
      "execution_count": null,
      "id": "329f4e78-93f1-4daa-bdf8-7e84b94dafd1",
      "metadata": {
        "trusted": true
      },
      "outputs": [],
      "source": [
        "model = YOLO('')\n",
        "results = model('')\n",
        "annotated_img = results[0].plot()\n",
        "\n",
        "cv2.imshow(\"YOLO inference\", annotated_img)\n",
        "cv2.waitKey(5000)\n",
        "cv2.destroyAllWindows()"
      ]
    }
  ],
  "metadata": {
    "kernelspec": {
      "display_name": "Python 3",
      "language": "python",
      "name": "python3"
    },
    "language_info": {
      "codemirror_mode": {
        "name": "ipython",
        "version": 3
      },
      "file_extension": ".py",
      "mimetype": "text/x-python",
      "name": "python",
      "nbconvert_exporter": "python",
      "pygments_lexer": "ipython3",
      "version": "3.10.12"
    }
  },
  "nbformat": 4,
  "nbformat_minor": 5
}
