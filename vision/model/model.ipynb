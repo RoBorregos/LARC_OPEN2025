{
  "cells": [
    {
      "cell_type": "code",
      "execution_count": 1,
      "id": "e1fbd744-f22b-48e5-b062-aea434aa0046",
      "metadata": {
        "trusted": true
      },
      "outputs": [
        {
          "ename": "ModuleNotFoundError",
          "evalue": "No module named 'torch'",
          "output_type": "error",
          "traceback": [
            "\u001b[0;31m---------------------------------------------------------------------------\u001b[0m",
            "\u001b[0;31mModuleNotFoundError\u001b[0m                       Traceback (most recent call last)",
            "Cell \u001b[0;32mIn[1], line 1\u001b[0m\n\u001b[0;32m----> 1\u001b[0m \u001b[38;5;28;01mimport\u001b[39;00m \u001b[38;5;21;01mtorch\u001b[39;00m\n\u001b[1;32m      2\u001b[0m \u001b[38;5;28mprint\u001b[39m(\u001b[38;5;124m\"\u001b[39m\u001b[38;5;124mGPU disponible:\u001b[39m\u001b[38;5;124m\"\u001b[39m, torch\u001b[38;5;241m.\u001b[39mcuda\u001b[38;5;241m.\u001b[39mis_available())\n\u001b[1;32m      4\u001b[0m get_ipython()\u001b[38;5;241m.\u001b[39msystem(\u001b[38;5;124m'\u001b[39m\u001b[38;5;124mnvidia-smi\u001b[39m\u001b[38;5;124m'\u001b[39m)\n",
            "\u001b[0;31mModuleNotFoundError\u001b[0m: No module named 'torch'"
          ]
        }
      ],
      "source": [
        "import torch\n",
        "print(\"GPU disponible:\", torch.cuda.is_available())\n",
        "\n",
        "!nvidia-smi\n",
        "\n",
        "%pip install ultralytics"
      ]
    },
    {
      "cell_type": "code",
      "execution_count": null,
      "id": "8b8a75af-c591-4cf7-88e0-0566fc144658",
      "metadata": {
        "trusted": true
      },
      "outputs": [],
      "source": [
        "from ultralytics import YOLO\n",
        "\n",
        "model = YOLO(\"yolov8m.pt\")\n",
        "\n",
        "results = model.train(\n",
        "    data=r\"vision\\model\\data.yaml\",  \n",
        "    epochs=150,\n",
        "    imgsz=640,\n",
        "    batch=8,\n",
        "    perspective=0.0005,\n",
        "    scale=0.4,\n",
        "    translate=0.04,\n",
        "    degrees=5,\n",
        "    shear=1,\n",
        "    hsv_s=0.5,\n",
        "    hsv_v=0.3,\n",
        "    flipud=0.2,\n",
        "    patience=15,\n",
        "    save_period=20,\n",
        "    name=\"larc-model\",\n",
        ")\n",
        "\n",
        "model.val()"
      ]
    },
    {
      "cell_type": "code",
      "execution_count": null,
      "id": "329f4e78-93f1-4daa-bdf8-7e84b94dafd1",
      "metadata": {
        "trusted": true
      },
      "outputs": [],
      "source": [
        "model = YOLO('')\n",
        "results = model('')\n",
        "annotated_img = results[0].plot()\n",
        "\n",
        "cv2.imshow(\"YOLO inference\", annotated_img)\n",
        "cv2.waitKey(5000)\n",
        "cv2.destroyAllWindows()"
      ]
    }
  ],
  "metadata": {
    "kernelspec": {
      "display_name": "Python 3",
      "language": "python",
      "name": "python3"
    },
    "language_info": {
      "codemirror_mode": {
        "name": "ipython",
        "version": 3
      },
      "file_extension": ".py",
      "mimetype": "text/x-python",
      "name": "python",
      "nbconvert_exporter": "python",
      "pygments_lexer": "ipython3",
      "version": "3.10.12"
    }
  },
  "nbformat": 4,
  "nbformat_minor": 5
}
