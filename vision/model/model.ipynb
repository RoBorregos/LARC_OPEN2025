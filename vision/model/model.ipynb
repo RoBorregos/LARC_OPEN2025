{
 "cells": [
  {
   "cell_type": "code",
   "execution_count": 1,
   "id": "3cb60186",
   "metadata": {},
   "outputs": [
    {
     "name": "stdout",
     "output_type": "stream",
     "text": [
      "GPU disponible: True\n",
      "Wed Oct 22 11:57:10 2025       \n",
      "+-----------------------------------------------------------------------------------------+\n",
      "| NVIDIA-SMI 575.51.03              Driver Version: 575.51.03      CUDA Version: 12.9     |\n",
      "|-----------------------------------------+------------------------+----------------------+\n",
      "| GPU  Name                 Persistence-M | Bus-Id          Disp.A | Volatile Uncorr. ECC |\n",
      "| Fan  Temp   Perf          Pwr:Usage/Cap |           Memory-Usage | GPU-Util  Compute M. |\n",
      "|                                         |                        |               MIG M. |\n",
      "|=========================================+========================+======================|\n",
      "|   0  NVIDIA GeForce RTX 4060 ...    Off |   00000000:01:00.0 Off |                  N/A |\n",
      "| N/A   46C    P0             17W /   55W |      18MiB /   8188MiB |      0%      Default |\n",
      "|                                         |                        |                  N/A |\n",
      "+-----------------------------------------+------------------------+----------------------+\n",
      "                                                                                         \n",
      "+-----------------------------------------------------------------------------------------+\n",
      "| Processes:                                                                              |\n",
      "|  GPU   GI   CI              PID   Type   Process name                        GPU Memory |\n",
      "|        ID   ID                                                               Usage      |\n",
      "|=========================================================================================|\n",
      "|    0   N/A  N/A            2353      G   /usr/lib/xorg/Xorg                        4MiB |\n",
      "+-----------------------------------------------------------------------------------------+\n"
     ]
    }
   ],
   "source": [
    "import torch\n",
    "import cv2\n",
    "from roboflow import Roboflow\n",
    "import dotenv\n",
    "import os\n",
    "print(\"GPU disponible:\", torch.cuda.is_available())\n",
    "\n",
    "!nvidia-smi"
   ]
  },
  {
   "cell_type": "code",
   "execution_count": 2,
   "id": "aba95eda",
   "metadata": {},
   "outputs": [
    {
     "name": "stdout",
     "output_type": "stream",
     "text": [
      "loading Roboflow workspace...\n",
      "loading Roboflow project...\n"
     ]
    },
    {
     "name": "stderr",
     "output_type": "stream",
     "text": [
      "Downloading Dataset Version Zip in larc-6 to yolov8:: 100%|██████████| 49377/49377 [00:01<00:00, 33270.27it/s]"
     ]
    },
    {
     "name": "stdout",
     "output_type": "stream",
     "text": [
      "\n"
     ]
    },
    {
     "name": "stderr",
     "output_type": "stream",
     "text": [
      "\n",
      "Extracting Dataset Version Zip to larc-6 in yolov8:: 100%|██████████| 980/980 [00:00<00:00, 12185.15it/s]\n"
     ]
    }
   ],
   "source": [
    "dotenv.load_dotenv()\n",
    "rf = Roboflow(api_key=os.getenv(\"ROBOFLOW_API_KEY\"))\n",
    "project = rf.workspace(\"larc-hbgqy\").project(\"larc-5pojj\")\n",
    "version = project.version(6)\n",
    "dataset = version.download(\"yolov8\")"
   ]
  },
  {
   "cell_type": "code",
   "execution_count": null,
   "id": "8006d0cf",
   "metadata": {},
   "outputs": [],
   "source": [
    "from ultralytics import YOLO\n",
    "\n",
    "# Load the pre-trained YOLOv8n model\n",
    "model = YOLO(\"yolov8n.pt\")\n",
    "\n",
    "# Train the model with the downloaded dataset\n",
    "results = model.train(\n",
    "    data=\"larc-6/data.yaml\",\n",
    "    epochs=70,         \n",
    "    imgsz=640,\n",
    "    batch=16,           \n",
    "    optimizer=\"AdamW\",\n",
    "    cos_lr=True,\n",
    "\n",
    "    # Augmentations\n",
    "    perspective=0.002,\n",
    "    scale=0.25,\n",
    "    translate=0.05,\n",
    "    degrees=10,\n",
    "    shear=0.2,\n",
    "    hsv_s=0.5,\n",
    "    hsv_v=0.3,\n",
    "    flipud=0.0,        \n",
    "    \n",
    "    # Training and validation\n",
    "    patience=10,        \n",
    "    save_period=10,     \n",
    "    name=\"larc-model-v2\",\n",
    "    project=\"runs/detect\",\n",
    ")\n"
   ]
  }
 ],
 "metadata": {
  "kernelspec": {
   "display_name": "Python 3",
   "language": "python",
   "name": "python3"
  },
  "language_info": {
   "codemirror_mode": {
    "name": "ipython",
    "version": 3
   },
   "file_extension": ".py",
   "mimetype": "text/x-python",
   "name": "python",
   "nbconvert_exporter": "python",
   "pygments_lexer": "ipython3",
   "version": "3.10.12"
  }
 },
 "nbformat": 4,
 "nbformat_minor": 5
}
